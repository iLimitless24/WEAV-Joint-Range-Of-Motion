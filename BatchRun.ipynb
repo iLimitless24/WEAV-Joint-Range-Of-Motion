{
  "cells": [
    {
      "cell_type": "markdown",
      "metadata": {
        "id": "3AujlQrT3WbL"
      },
      "source": [
        "# Import Libraries & Connect to Drive"
      ]
    },
    {
      "cell_type": "code",
      "execution_count": 1,
      "metadata": {
        "colab": {
          "base_uri": "https://localhost:8080/"
        },
        "id": "whvy2ANz7Tu3",
        "outputId": "1eaad71b-fe6d-4acd-93b9-31547ad5ef23"
      },
      "outputs": [
        {
          "name": "stdout",
          "output_type": "stream",
          "text": [
            "Requirement already satisfied: import-ipynb in c:\\users\\rosha\\appdata\\local\\packages\\pythonsoftwarefoundation.python.3.10_qbz5n2kfra8p0\\localcache\\local-packages\\python310\\site-packages (0.1.4)\n",
            "Requirement already satisfied: nbformat in c:\\users\\rosha\\appdata\\local\\packages\\pythonsoftwarefoundation.python.3.10_qbz5n2kfra8p0\\localcache\\local-packages\\python310\\site-packages (from import-ipynb) (5.7.0)\n",
            "Requirement already satisfied: IPython in c:\\users\\rosha\\appdata\\local\\packages\\pythonsoftwarefoundation.python.3.10_qbz5n2kfra8p0\\localcache\\local-packages\\python310\\site-packages (from import-ipynb) (8.6.0)\n",
            "Requirement already satisfied: backcall in c:\\users\\rosha\\appdata\\local\\packages\\pythonsoftwarefoundation.python.3.10_qbz5n2kfra8p0\\localcache\\local-packages\\python310\\site-packages (from IPython->import-ipynb) (0.2.0)\n",
            "Requirement already satisfied: colorama in c:\\users\\rosha\\appdata\\local\\packages\\pythonsoftwarefoundation.python.3.10_qbz5n2kfra8p0\\localcache\\local-packages\\python310\\site-packages (from IPython->import-ipynb) (0.4.6)\n",
            "Requirement already satisfied: decorator in c:\\users\\rosha\\appdata\\local\\packages\\pythonsoftwarefoundation.python.3.10_qbz5n2kfra8p0\\localcache\\local-packages\\python310\\site-packages (from IPython->import-ipynb) (5.1.1)\n",
            "Requirement already satisfied: traitlets>=5 in c:\\users\\rosha\\appdata\\local\\packages\\pythonsoftwarefoundation.python.3.10_qbz5n2kfra8p0\\localcache\\local-packages\\python310\\site-packages (from IPython->import-ipynb) (5.5.0)\n",
            "Requirement already satisfied: matplotlib-inline in c:\\users\\rosha\\appdata\\local\\packages\\pythonsoftwarefoundation.python.3.10_qbz5n2kfra8p0\\localcache\\local-packages\\python310\\site-packages (from IPython->import-ipynb) (0.1.6)\n",
            "Requirement already satisfied: stack-data in c:\\users\\rosha\\appdata\\local\\packages\\pythonsoftwarefoundation.python.3.10_qbz5n2kfra8p0\\localcache\\local-packages\\python310\\site-packages (from IPython->import-ipynb) (0.6.0)\n",
            "Requirement already satisfied: pygments>=2.4.0 in c:\\users\\rosha\\appdata\\local\\packages\\pythonsoftwarefoundation.python.3.10_qbz5n2kfra8p0\\localcache\\local-packages\\python310\\site-packages (from IPython->import-ipynb) (2.13.0)\n",
            "Requirement already satisfied: jedi>=0.16 in c:\\users\\rosha\\appdata\\local\\packages\\pythonsoftwarefoundation.python.3.10_qbz5n2kfra8p0\\localcache\\local-packages\\python310\\site-packages (from IPython->import-ipynb) (0.18.1)\n",
            "Requirement already satisfied: pickleshare in c:\\users\\rosha\\appdata\\local\\packages\\pythonsoftwarefoundation.python.3.10_qbz5n2kfra8p0\\localcache\\local-packages\\python310\\site-packages (from IPython->import-ipynb) (0.7.5)\n",
            "Requirement already satisfied: prompt-toolkit<3.1.0,>3.0.1 in c:\\users\\rosha\\appdata\\local\\packages\\pythonsoftwarefoundation.python.3.10_qbz5n2kfra8p0\\localcache\\local-packages\\python310\\site-packages (from IPython->import-ipynb) (3.0.32)\n",
            "Requirement already satisfied: jsonschema>=2.6 in c:\\users\\rosha\\appdata\\local\\packages\\pythonsoftwarefoundation.python.3.10_qbz5n2kfra8p0\\localcache\\local-packages\\python310\\site-packages (from nbformat->import-ipynb) (4.17.3)\n",
            "Requirement already satisfied: fastjsonschema in c:\\users\\rosha\\appdata\\local\\packages\\pythonsoftwarefoundation.python.3.10_qbz5n2kfra8p0\\localcache\\local-packages\\python310\\site-packages (from nbformat->import-ipynb) (2.16.2)\n",
            "Requirement already satisfied: jupyter-core in c:\\users\\rosha\\appdata\\local\\packages\\pythonsoftwarefoundation.python.3.10_qbz5n2kfra8p0\\localcache\\local-packages\\python310\\site-packages (from nbformat->import-ipynb) (4.11.2)\n",
            "Requirement already satisfied: parso<0.9.0,>=0.8.0 in c:\\users\\rosha\\appdata\\local\\packages\\pythonsoftwarefoundation.python.3.10_qbz5n2kfra8p0\\localcache\\local-packages\\python310\\site-packages (from jedi>=0.16->IPython->import-ipynb) (0.8.3)\n",
            "Requirement already satisfied: pyrsistent!=0.17.0,!=0.17.1,!=0.17.2,>=0.14.0 in c:\\users\\rosha\\appdata\\local\\packages\\pythonsoftwarefoundation.python.3.10_qbz5n2kfra8p0\\localcache\\local-packages\\python310\\site-packages (from jsonschema>=2.6->nbformat->import-ipynb) (0.19.2)\n",
            "Requirement already satisfied: attrs>=17.4.0 in c:\\users\\rosha\\appdata\\local\\packages\\pythonsoftwarefoundation.python.3.10_qbz5n2kfra8p0\\localcache\\local-packages\\python310\\site-packages (from jsonschema>=2.6->nbformat->import-ipynb) (22.1.0)\n",
            "Requirement already satisfied: wcwidth in c:\\users\\rosha\\appdata\\local\\packages\\pythonsoftwarefoundation.python.3.10_qbz5n2kfra8p0\\localcache\\local-packages\\python310\\site-packages (from prompt-toolkit<3.1.0,>3.0.1->IPython->import-ipynb) (0.2.5)\n",
            "Requirement already satisfied: pywin32>=1.0 in c:\\users\\rosha\\appdata\\local\\packages\\pythonsoftwarefoundation.python.3.10_qbz5n2kfra8p0\\localcache\\local-packages\\python310\\site-packages (from jupyter-core->nbformat->import-ipynb) (304)\n",
            "Requirement already satisfied: executing>=1.2.0 in c:\\users\\rosha\\appdata\\local\\packages\\pythonsoftwarefoundation.python.3.10_qbz5n2kfra8p0\\localcache\\local-packages\\python310\\site-packages (from stack-data->IPython->import-ipynb) (1.2.0)\n",
            "Requirement already satisfied: asttokens>=2.1.0 in c:\\users\\rosha\\appdata\\local\\packages\\pythonsoftwarefoundation.python.3.10_qbz5n2kfra8p0\\localcache\\local-packages\\python310\\site-packages (from stack-data->IPython->import-ipynb) (2.1.0)\n",
            "Requirement already satisfied: pure-eval in c:\\users\\rosha\\appdata\\local\\packages\\pythonsoftwarefoundation.python.3.10_qbz5n2kfra8p0\\localcache\\local-packages\\python310\\site-packages (from stack-data->IPython->import-ipynb) (0.2.2)\n",
            "Requirement already satisfied: six in c:\\users\\rosha\\appdata\\local\\packages\\pythonsoftwarefoundation.python.3.10_qbz5n2kfra8p0\\localcache\\local-packages\\python310\\site-packages (from asttokens>=2.1.0->stack-data->IPython->import-ipynb) (1.16.0)\n"
          ]
        },
        {
          "name": "stderr",
          "output_type": "stream",
          "text": [
            "\n",
            "[notice] A new release of pip available: 22.3 -> 22.3.1\n",
            "[notice] To update, run: C:\\Users\\rosha\\AppData\\Local\\Microsoft\\WindowsApps\\PythonSoftwareFoundation.Python.3.10_qbz5n2kfra8p0\\python.exe -m pip install --upgrade pip\n"
          ]
        }
      ],
      "source": [
        "!pip install import-ipynb"
      ]
    },
    {
      "cell_type": "code",
      "execution_count": 2,
      "metadata": {
        "colab": {
          "base_uri": "https://localhost:8080/"
        },
        "id": "UsY_lSPHDUBu",
        "outputId": "050c56f6-bb0c-4d35-f747-69b1249af754"
      },
      "outputs": [
        {
          "name": "stdout",
          "output_type": "stream",
          "text": [
            "importing Jupyter notebook from Utils.ipynb\n"
          ]
        }
      ],
      "source": [
        "import os\n",
        "import matplotlib.pyplot as plt\n",
        "import pandas as pd\n",
        "import matplotlib.pyplot as plt\n",
        "import import_ipynb\n",
        "from Utils import GetRMR, GetMet"
      ]
    },
    {
      "cell_type": "code",
      "execution_count": 3,
      "metadata": {},
      "outputs": [
        {
          "name": "stdout",
          "output_type": "stream",
          "text": [
            "['cpet_s003.csv', 'cpet_s004.csv', 'cpet_s005.csv', 'cpet_s006.csv', 'cpet_s007.csv', 'Participants.csv', 'ree_s003.csv', 'ree_s004.csv', 'ree_s005.csv', 'ree_s006.csv', 'ree_s007.csv']\n"
          ]
        }
      ],
      "source": [
        "SubjFolder = 'C:/Users/rosha/OneDrive/Documents/WEAV_joint/WEAV-Joint-Range-Of-Motion/OpenSimData/Metabolics'\n",
        "os.chdir(SubjFolder)\n",
        "Files = os.listdir(SubjFolder)\n",
        "print(Files)"
      ]
    },
    {
      "cell_type": "markdown",
      "metadata": {
        "id": "g6Ph4ojG3bH6"
      },
      "source": [
        "# Run Batch Processing"
      ]
    },
    {
      "cell_type": "code",
      "execution_count": 4,
      "metadata": {
        "colab": {
          "base_uri": "https://localhost:8080/",
          "height": 695
        },
        "id": "Bp1bEx7-M3sc",
        "outputId": "3ae6c0ec-d96d-4154-c849-69f610edf273"
      },
      "outputs": [
        {
          "name": "stdout",
          "output_type": "stream",
          "text": [
            "cpet_s003.csv\n"
          ]
        },
        {
          "ename": "TypeError",
          "evalue": "unsupported operand type(s) for /: 'str' and 'int'",
          "output_type": "error",
          "traceback": [
            "\u001b[1;31m---------------------------------------------------------------------------\u001b[0m",
            "\u001b[1;31mTypeError\u001b[0m                                 Traceback (most recent call last)",
            "Cell \u001b[1;32mIn [4], line 31\u001b[0m\n\u001b[0;32m     28\u001b[0m           Met[t][\u001b[39m'\u001b[39m\u001b[39mNetNormW\u001b[39m\u001b[39m'\u001b[39m] \u001b[39m=\u001b[39m \u001b[39mfloat\u001b[39m((Met[t][\u001b[39m'\u001b[39m\u001b[39mAvgW\u001b[39m\u001b[39m'\u001b[39m] \u001b[39m-\u001b[39m RMR[\u001b[39m'\u001b[39m\u001b[39mAvgW\u001b[39m\u001b[39m'\u001b[39m]) \u001b[39m/\u001b[39m SubjMass)\n\u001b[0;32m     29\u001b[0m           \u001b[39mprint\u001b[39m(\u001b[39m'\u001b[39m\u001b[39mTrial:\u001b[39m\u001b[39m'\u001b[39m, t, \u001b[39m'\u001b[39m\u001b[39mMet Cost:\u001b[39m\u001b[39m'\u001b[39m, Met[t][\u001b[39m'\u001b[39m\u001b[39mNetNormW\u001b[39m\u001b[39m'\u001b[39m])\n\u001b[1;32m---> 31\u001b[0m GetMetabolics(\u001b[39m'\u001b[39;49m\u001b[39ms004\u001b[39;49m\u001b[39m'\u001b[39;49m)\n",
            "Cell \u001b[1;32mIn [4], line 20\u001b[0m, in \u001b[0;36mGetMetabolics\u001b[1;34m(subject)\u001b[0m\n\u001b[0;32m     18\u001b[0m \u001b[39mprint\u001b[39m(fname)\n\u001b[0;32m     19\u001b[0m Trials \u001b[39m=\u001b[39m [\u001b[39m'\u001b[39m\u001b[39mFlat_08\u001b[39m\u001b[39m'\u001b[39m, \u001b[39m'\u001b[39m\u001b[39mFlat_10\u001b[39m\u001b[39m'\u001b[39m, \u001b[39m'\u001b[39m\u001b[39mFlat_12\u001b[39m\u001b[39m'\u001b[39m, \u001b[39m'\u001b[39m\u001b[39mUp_10\u001b[39m\u001b[39m'\u001b[39m, \u001b[39m'\u001b[39m\u001b[39mDown_10\u001b[39m\u001b[39m'\u001b[39m]\n\u001b[1;32m---> 20\u001b[0m Met \u001b[39m=\u001b[39m GetMet(fname)\n\u001b[0;32m     22\u001b[0m \u001b[39m# get participant demographics\u001b[39;00m\n\u001b[0;32m     23\u001b[0m Demo \u001b[39m=\u001b[39m pd\u001b[39m.\u001b[39mread_csv(\u001b[39m'\u001b[39m\u001b[39mC:/Users/rosha/OneDrive/Documents/WEAV_joint/WEAV-Joint-Range-Of-Motion/OpenSimData/Metabolics/Participants.csv\u001b[39m\u001b[39m'\u001b[39m)\n",
            "File \u001b[1;32m<string>:66\u001b[0m, in \u001b[0;36mGetMet\u001b[1;34m(fname)\u001b[0m\n",
            "\u001b[1;31mTypeError\u001b[0m: unsupported operand type(s) for /: 'str' and 'int'"
          ]
        }
      ],
      "source": [
        "SubjFolder = 'C:/Users/rosha/OneDrive/Documents/WEAV_joint/WEAV-Joint-Range-Of-Motion/OpenSimData/Metabolics'\n",
        "os.chdir(SubjFolder)\n",
        "Files = os.listdir(SubjFolder)\n",
        "\n",
        "\n",
        "def GetMetabolics(subject):\n",
        "\n",
        "  for files in os.walk(SubjFolder):\n",
        "    for file in files[2]:\n",
        "      if file.startswith('ree'):\n",
        "        # get RMR data\n",
        "        fname = file\n",
        "        print(fname)\n",
        "        RMR = GetRMR(fname)\n",
        "      if file.startswith('cpet'):\n",
        "        # get Met data\n",
        "        fname = file\n",
        "        print(fname)\n",
        "        Trials = ['Flat_08', 'Flat_10', 'Flat_12', 'Up_10', 'Down_10']\n",
        "        Met = GetMet(fname)\n",
        "\n",
        "        # get participant demographics\n",
        "        Demo = pd.read_csv('C:/Users/rosha/OneDrive/Documents/WEAV_joint/WEAV-Joint-Range-Of-Motion/OpenSimData/Metabolics/Participants.csv')\n",
        "        SubjMass = Demo[Demo['ID'] == subject]['Mass (kg)']\n",
        "\n",
        "        # calculate net metabolic rate and normalize to body mass\n",
        "        for t in Trials: \n",
        "          Met[t]['NetNormW'] = float((Met[t]['AvgW'] - RMR['AvgW']) / SubjMass)\n",
        "          print('Trial:', t, 'Met Cost:', Met[t]['NetNormW'])\n",
        "\n",
        "GetMetabolics('s004')"
      ]
    }
  ],
  "metadata": {
    "colab": {
      "collapsed_sections": [
        "3AujlQrT3WbL"
      ],
      "provenance": []
    },
    "kernelspec": {
      "display_name": "Python 3.10.8 64-bit (microsoft store)",
      "language": "python",
      "name": "python3"
    },
    "language_info": {
      "codemirror_mode": {
        "name": "ipython",
        "version": 3
      },
      "file_extension": ".py",
      "mimetype": "text/x-python",
      "name": "python",
      "nbconvert_exporter": "python",
      "pygments_lexer": "ipython3",
      "version": "3.10.8"
    },
    "vscode": {
      "interpreter": {
        "hash": "d83241f97ecf3836fc612b8f28c3128f9bacebe704fd26bd24ad143534b2d51a"
      }
    }
  },
  "nbformat": 4,
  "nbformat_minor": 0
}
