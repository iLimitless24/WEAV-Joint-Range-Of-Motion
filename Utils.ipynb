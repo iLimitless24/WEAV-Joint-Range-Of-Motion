{
  "cells": [
    {
      "cell_type": "markdown",
      "metadata": {
        "id": "RwR_cPSQDcZ4"
      },
      "source": [
        "# Utility scripts for WEAV Study - Walking Energy Audit from Video\n",
        "\n",
        "Use these functions to process & analyze walking biomechanics data\n",
        "\n",
        "\n",
        "Ricky Pimentel & Roshan Ragu\n",
        "\n",
        "Applied Biomechanics Laboratory"
      ]
    },
    {
      "cell_type": "markdown",
      "metadata": {
        "id": "z_eYMonxD_hn"
      },
      "source": [
        "## Import Libraries & Connect to Gdrive"
      ]
    },
    {
      "cell_type": "code",
      "execution_count": 1,
      "metadata": {
        "id": "oFMbK6x1D8tC"
      },
      "outputs": [
        {
          "name": "stderr",
          "output_type": "stream",
          "text": [
            "C:\\Users\\rosha\\AppData\\Local\\Temp\\ipykernel_16532\\1537878433.py:13: MatplotlibDeprecationWarning: The seaborn styles shipped by Matplotlib are deprecated since 3.6, as they no longer correspond to the styles shipped by seaborn. However, they will remain available as 'seaborn-v0_8-<style>'. Alternatively, directly use the seaborn API instead.\n",
            "  mpl.style.use(sty)\n"
          ]
        }
      ],
      "source": [
        "import pandas as pd\n",
        "import numpy as np\n",
        "import os\n",
        "import fnmatch\n",
        "import matplotlib as mpl\n",
        "import matplotlib.pyplot as plt\n",
        "import datetime as dt\n",
        "import scipy.io as sio\n",
        "import scipy.stats as stats\n",
        "from datetime import datetime, timedelta\n",
        "\n",
        "sty = 'seaborn'\n",
        "mpl.style.use(sty)"
      ]
    },
    {
      "cell_type": "code",
      "execution_count": 2,
      "metadata": {
        "id": "x1t-F-3ZEIRe"
      },
      "outputs": [
        {
          "data": {
            "text/plain": [
              "' \\nData avaible at \\nhttps://drive.google.com/drive/folders/1r-qjnhacvAieNrcHOblaoXUf6lKDaV6G?usp=sharing\\n'"
            ]
          },
          "execution_count": 2,
          "metadata": {},
          "output_type": "execute_result"
        }
      ],
      "source": [
        "\"\"\" \n",
        "Data avaible at \n",
        "https://drive.google.com/drive/folders/1r-qjnhacvAieNrcHOblaoXUf6lKDaV6G?usp=sharing\n",
        "\"\"\""
      ]
    },
    {
      "cell_type": "markdown",
      "metadata": {
        "id": "rUq4ZE-DD9CH"
      },
      "source": [
        "Metabolic Analysis"
      ]
    },
    {
      "cell_type": "code",
      "execution_count": 3,
      "metadata": {
        "id": "iQPbUFHYA8N2"
      },
      "outputs": [],
      "source": [
        "# def CalcWatts(VO2, VCO2):\n",
        "#   # calculate watts from volume of O2 consumed and CO2 produced\n",
        "#   # based on the Brockway equation - http://www.ncbi.nlm.nih.gov/pubmed/3429265\n",
        "\n",
        "#   W = (VO2 /1000 * 16.5 + VCO2 /1000 * 4.51) * 1000 / 60 \n",
        "\n",
        "#   return W\n",
        "\n",
        "def GetRMR(fname):\n",
        "  # load and transform resting metabolic rate (RMR) data\n",
        "  # these metabolics files differ from the active trials by length\n",
        "  # RMR's should be ~ 5 min, while active trials contain multiple 5-min trials\n",
        "\n",
        "  RMR = pd.read_csv(fname) # load data as DF\n",
        "    \n",
        "  # pull VO2 and time data\n",
        "  VO2 = RMR.loc[2:len(RMR),'VO2'].values\n",
        "  VCO2 = RMR.loc[2:len(RMR),'VCO2'].values\n",
        "  t = RMR.loc[2:len(RMR),'t'].values.tolist()\n",
        "  W = (VO2 /1000 * 16.5 + VCO2 /1000 * 4.51) * 1000 / 60 # calculate watts\n",
        "  \n",
        "  # find rows after 3 min, append to T\n",
        "  T = []\n",
        "  time = []\n",
        "  for i, x in enumerate(t):\n",
        "    if x is np.nan: \n",
        "      continue # skip NaNs\n",
        "    # print(timedelta(hours=t[i].hour, minutes=t[i].minute, seconds=t[i].second).total_seconds()) # print seconds elapsed\n",
        "    time.append(timedelta(hours=t[i].hour, minutes=t[i].minute, seconds=t[i].second).total_seconds()) # save seconds elapsed\n",
        "    if t[i].minute >= 3:\n",
        "      T.append(i)\n",
        "            \n",
        "  # calculate average RMR and make array\n",
        "  AvgVO2 = np.mean(VO2[T])\n",
        "  AvgVCO2 = np.mean(VCO2[T])\n",
        "  AvgW = np.mean(W[T])\n",
        "  Seq = list(range(0, len(T)))\n",
        "  A = np.ones((len(T)))\n",
        "  AvgRMR_array = A * AvgW\n",
        "            \n",
        "  RMRdata = {} # save data into dict\n",
        "  RMRdata['AvgVO2'] = AvgVO2\n",
        "  RMRdata['AvgVCO2'] = AvgVCO2\n",
        "  RMRdata['AvgW'] = AvgW\n",
        "  RMRdata['VO2'] = VO2\n",
        "  RMRdata['VCO2'] = VCO2\n",
        "  RMRdata['W'] = W\n",
        "  RMRdata['Time'] = time\n",
        "  RMRdata['Raw'] = RMR\n",
        "\n",
        "  return RMRdata\n",
        "\n",
        "\n",
        "\n",
        "def GetMet(fname):\n",
        "  # load and transform resting metabolic rate (RMR) data\n",
        "  # these metabolics files differ from the active trials by length\n",
        "  # RMR's should be ~ 5 min, while active trials contain multiple 5-min trials\n",
        "\n",
        "  Active = pd.read_csv(fname)\n",
        "\n",
        "  # pull VO2 and time data\n",
        "  VO2 = Active.loc[2:len(Active),'VO2'].values\n",
        "  VCO2 = Active.loc[2:len(Active),'VO2'].values\n",
        "  t = Active.loc[2:len(Active),'t'].values.tolist()\n",
        "  W = (np.multiply(np.divide(VO2, 1000), 16.58) + \n",
        "                np.multiply(np.divide(VCO2, 1000), 4.51)) * 1000 / 60  # calculate watts\n",
        "  Mkr = Active.loc[2:len(Active),'Marker'].values.tolist()\n",
        "    \n",
        "  # convert start and end times to datetimes\n",
        "  today = dt.datetime.today()\n",
        "  ProtocolStartTime = dt.datetime.combine(today, t[0])\n",
        "  ProtocolEndTime = dt.datetime.combine(today, t[-1])\n",
        "\n",
        "  plotT = 1\n",
        "  if plotT == 1:\n",
        "    plt.figure(figsize=(10,10))\n",
        "\n",
        "  Trials = ['Flat_08','Flat_10','Flat_12','Up_10','Down_10']\n",
        "  TrialData = {}\n",
        "  for trial in Trials: \n",
        "    \n",
        "    today = dt.datetime.today()\n",
        "      \n",
        "    # add start and end times\n",
        "    StartStr = 'Start_' + trial\n",
        "    EndStr = 'End_' + trial\n",
        "        \n",
        "    # pull start and end times of trial\n",
        "    StartInd = Mkr.index(StartStr)\n",
        "    EndInd = Mkr.index(EndStr)\n",
        "\n",
        "    # get measures during trial\n",
        "    TrialVO2 = VO2[StartInd:EndInd]\n",
        "    TrialVCO2 = VCO2[StartInd:EndInd]\n",
        "    TrialW = W[StartInd:EndInd]\n",
        "    \n",
        "    # create start and end times as datetimes\n",
        "    StartTime = dt.datetime.combine(today, t[StartInd])\n",
        "    # EndTime = dt.datetime.combine(today, t[EndInd])\n",
        "    #  TrialTime = EndTime-StartTime\n",
        "\n",
        "    # convert to seconds\n",
        "    TrlSec = []\n",
        "    for i in t[StartInd:EndInd]:\n",
        "        TrlTime = dt.datetime.combine(today, i)\n",
        "        ts = TrlTime - StartTime\n",
        "        TrlSec.append(ts.total_seconds())\n",
        "    \n",
        "    # find final 2 min of trial\n",
        "    Final2Min = [x for x in TrlSec if x >= 180]\n",
        "    Final2MinInd = TrlSec.index(Final2Min[0])\n",
        "    \n",
        "    # average VO2 over final 2 min \n",
        "    TrialVO2Avg = np.mean(TrialVO2[Final2MinInd:EndInd])\n",
        "    TrialVCO2Avg = np.mean(TrialVCO2[Final2MinInd:EndInd])\n",
        "    TrialWAvg = np.mean(TrialW[Final2MinInd:EndInd])\n",
        "    \n",
        "    tdata = {}\n",
        "    tdata['AvgVO2'] = TrialVO2Avg\n",
        "    tdata['AvgVCO2'] = TrialVCO2Avg\n",
        "    tdata['AvgW'] = TrialWAvg\n",
        "    tdata['VO2'] = TrialVO2\n",
        "    tdata['VCO2'] = TrialVCO2\n",
        "    tdata['W'] = TrialW\n",
        "    tdata['Time'] = TrlSec\n",
        "    tdata['Raw'] = Active\n",
        "\n",
        "    TrialData[trial] = tdata # create sub dict within greater dict\n",
        "\n",
        "    if plotT == 1:\n",
        "      plt.plot(tdata['Time'], tdata['W'], label=trial)\n",
        "      final2min = np.arange(180, 300)\n",
        "      plt.plot(final2min, np.ones(len(final2min))*tdata['AvgW'], lw=5)\n",
        "\n",
        "    \n",
        "  if plotT == 1:\n",
        "    plt.legend()\n",
        "    plt.xlabel('time (s)')\n",
        "    plt.ylabel('Watts')\n",
        "    plt.show()\n",
        "\n",
        "  return TrialData\n",
        "\n",
        "  # Rest Time Analysis\n",
        "\n",
        "#     # extract & analyze rest times   \n",
        "#     StartInds = []\n",
        "#     i = 0\n",
        "#     for v in Mkr:\n",
        "#         if 'start' in str(v):\n",
        "#             StartInds.append(i)\n",
        "#         i = i + 1\n",
        "        \n",
        "#     EndInds = []\n",
        "#     i = 0\n",
        "#     for v in Mkr:\n",
        "#         if 'end' in str(v):\n",
        "#             EndInds.append(i)\n",
        "#         i = i + 1\n",
        "        \n",
        "#     del(StartInds[0])\n",
        "#     del(EndInds[-1])\n",
        "#     RestTime = []\n",
        "#     for i in range(len(StartInds)):\n",
        "#         starts = dt.datetime.combine(today, t[StartInds[i]])\n",
        "#         ends = dt.datetime.combine(today, t[EndInds[i]])\n",
        "#         NumSec = starts - ends\n",
        "#         RestTime.append(NumSec.seconds)\n",
        "\n",
        "#     Subjects[s]['RestTime'] = RestTime\n",
        "    \n"
      ]
    },
    {
      "cell_type": "code",
      "execution_count": 4,
      "metadata": {
        "id": "g9qjspsFHTpg"
      },
      "outputs": [],
      "source": [
        "#%% Rest Time Analysis\n",
        "# RestTimes = []\n",
        "# for s in Subjects:\n",
        "#     for x in Subjects[s]['RestTime']:\n",
        "#         RestTimes.append(x) \n",
        "        \n",
        "# AvgRestTimes = np.mean(RestTimes)\n",
        "# SDRestTimes = np.std(RestTimes)\n",
        "# MinRestTimes = np.min(RestTimes)\n",
        "# MaxRestTimes = np.max(RestTimes)\n",
        "\n",
        "# print('Rest Times')\n",
        "# print('Avg = ' + str(AvgRestTimes))\n",
        "# print('SD = ' + str(SDRestTimes))\n",
        "# print('Min = ' + str(MinRestTimes))\n",
        "# print('Max = ' + str(MaxRestTimes))"
      ]
    }
  ],
  "metadata": {
    "colab": {
      "provenance": []
    },
    "kernelspec": {
      "display_name": "Python 3.10.8 64-bit (microsoft store)",
      "language": "python",
      "name": "python3"
    },
    "language_info": {
      "codemirror_mode": {
        "name": "ipython",
        "version": 3
      },
      "file_extension": ".py",
      "mimetype": "text/x-python",
      "name": "python",
      "nbconvert_exporter": "python",
      "pygments_lexer": "ipython3",
      "version": "3.10.8"
    },
    "vscode": {
      "interpreter": {
        "hash": "d83241f97ecf3836fc612b8f28c3128f9bacebe704fd26bd24ad143534b2d51a"
      }
    }
  },
  "nbformat": 4,
  "nbformat_minor": 0
}
